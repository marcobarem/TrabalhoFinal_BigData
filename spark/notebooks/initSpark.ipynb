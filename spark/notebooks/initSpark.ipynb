{
 "cells": [
  {
   "cell_type": "code",
   "execution_count": 1,
   "id": "fd584217-56f9-4e9c-9e4b-89acfb7ff31f",
   "metadata": {},
   "outputs": [
    {
     "name": "stderr",
     "output_type": "stream",
     "text": [
      "Setting default log level to \"WARN\".\n",
      "To adjust logging level use sc.setLogLevel(newLevel). For SparkR, use setLogLevel(newLevel).\n",
      "24/06/11 12:23:18 WARN NativeCodeLoader: Unable to load native-hadoop library for your platform... using builtin-java classes where applicable\n"
     ]
    }
   ],
   "source": [
    "# Importando as bibliotecas\n",
    "from pyspark.sql import SparkSession\n",
    "\n",
    "# Inicializando a sessão e definindo a memória de execução\n",
    "spark = SparkSession.builder \\\n",
    "    .appName(\"spark\") \\\n",
    "    .master(\"local[*]\") \\\n",
    "    .config(\"spark.executor.memory\", \"1g\") \\\n",
    "    .getOrCreate()"
   ]
  },
  {
   "cell_type": "code",
   "execution_count": 11,
   "id": "b7f47adb-ea38-4136-8672-3cc05e309f9c",
   "metadata": {},
   "outputs": [],
   "source": [
    "# Obtendo o contexto e definindo o nível de log\n",
    "sc = spark.sparkContext\n",
    "sc.setLogLevel(\"ERROR\")"
   ]
  },
  {
   "cell_type": "code",
   "execution_count": 14,
   "id": "9938b0f9-6e8f-4fd9-ad3c-ec621b73ffa5",
   "metadata": {},
   "outputs": [
    {
     "name": "stdout",
     "output_type": "stream",
     "text": [
      "Spark Version: 3.4.3\n",
      "Python Version: 3.11\n",
      "Master URL: local\n",
      "Spark User: jovyan\n",
      "Spark Home: /usr/local/spark\n",
      "Application Name: spark\n",
      "Application ID: local-1717540812461\n",
      "Default Parallelism: 1\n",
      "Default Minimum Partitions: 1\n"
     ]
    }
   ],
   "source": [
    "# Obtendo informações do ambiente\n",
    "print(\"Spark Version:\", sc.version)\n",
    "print(\"Python Version:\", sc.pythonVer)\n",
    "print(\"Master URL:\", sc.master)\n",
    "print(\"Spark User:\", sc.sparkUser())\n",
    "print(\"Spark Home:\", sc._jvm.System.getenv(\"SPARK_HOME\"))\n",
    "print(\"Application Name:\", sc.appName)\n",
    "print(\"Application ID:\", sc.applicationId)\n",
    "print(\"Default Parallelism:\", sc.defaultParallelism)\n",
    "print(\"Default Minimum Partitions:\", sc.defaultMinPartitions)"
   ]
  },
  {
   "cell_type": "code",
   "execution_count": 9,
   "id": "e17374f8-292c-4be4-b70c-082744b94fb5",
   "metadata": {},
   "outputs": [],
   "source": [
    "sc.stop()"
   ]
  },
  {
   "cell_type": "code",
   "execution_count": 3,
   "id": "e594500b",
   "metadata": {},
   "outputs": [],
   "source": [
    "from pyspark.sql import Row\n",
    "\n",
    "data = [Row(id=1, name=\"John Doe\", city=\"Los Angeles\"),\n",
    "        Row(id=2, name=\"Jane Doe\", city=\"Phoenix\"),\n",
    "        Row(id=3, name=\"John Smith\", city=\"San Francisco\")]\n",
    "\n",
    "df = spark.createDataFrame(data)"
   ]
  },
  {
   "cell_type": "code",
   "execution_count": 4,
   "id": "a17740d8",
   "metadata": {},
   "outputs": [
    {
     "name": "stderr",
     "output_type": "stream",
     "text": [
      "                                                                                \r"
     ]
    },
    {
     "name": "stdout",
     "output_type": "stream",
     "text": [
      "+---+----------+-------------+\n",
      "|id |name      |city         |\n",
      "+---+----------+-------------+\n",
      "|1  |John Doe  |Los Angeles  |\n",
      "|2  |Jane Doe  |Phoenix      |\n",
      "|3  |John Smith|San Francisco|\n",
      "+---+----------+-------------+\n",
      "\n"
     ]
    },
    {
     "name": "stderr",
     "output_type": "stream",
     "text": [
      "----------------------------------------\n",
      "Exception occurred during processing of request from ('127.0.0.1', 44706)\n",
      "Traceback (most recent call last):\n",
      "  File \"/opt/conda/lib/python3.11/socketserver.py\", line 317, in _handle_request_noblock\n",
      "    self.process_request(request, client_address)\n",
      "  File \"/opt/conda/lib/python3.11/socketserver.py\", line 348, in process_request\n",
      "    self.finish_request(request, client_address)\n",
      "  File \"/opt/conda/lib/python3.11/socketserver.py\", line 361, in finish_request\n",
      "    self.RequestHandlerClass(request, client_address, self)\n",
      "  File \"/opt/conda/lib/python3.11/socketserver.py\", line 755, in __init__\n",
      "    self.handle()\n",
      "  File \"/opt/conda/lib/python3.11/site-packages/pyspark/accumulators.py\", line 295, in handle\n",
      "    poll(accum_updates)\n",
      "  File \"/opt/conda/lib/python3.11/site-packages/pyspark/accumulators.py\", line 267, in poll\n",
      "    if self.rfile in r and func():\n",
      "                           ^^^^^^\n",
      "  File \"/opt/conda/lib/python3.11/site-packages/pyspark/accumulators.py\", line 271, in accum_updates\n",
      "    num_updates = read_int(self.rfile)\n",
      "                  ^^^^^^^^^^^^^^^^^^^^\n",
      "  File \"/opt/conda/lib/python3.11/site-packages/pyspark/serializers.py\", line 596, in read_int\n",
      "    raise EOFError\n",
      "EOFError\n",
      "----------------------------------------\n"
     ]
    }
   ],
   "source": [
    "df.show(5, False)"
   ]
  }
 ],
 "metadata": {
  "kernelspec": {
   "display_name": "Python 3 (ipykernel)",
   "language": "python",
   "name": "python3"
  },
  "language_info": {
   "codemirror_mode": {
    "name": "ipython",
    "version": 3
   },
   "file_extension": ".py",
   "mimetype": "text/x-python",
   "name": "python",
   "nbconvert_exporter": "python",
   "pygments_lexer": "ipython3",
   "version": "3.11.6"
  }
 },
 "nbformat": 4,
 "nbformat_minor": 5
}
